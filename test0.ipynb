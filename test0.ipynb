{
 "cells": [
  {
   "cell_type": "code",
   "execution_count": null,
   "id": "e6ee3102",
   "metadata": {},
   "outputs": [],
   "source": [
    "def addition(a, b):\n",
    "    return a + b\n",
    "\n",
    "def soustraction(a, b):\n",
    "    return a - b\n",
    "\n",
    "def multiplication(a, b):\n",
    "    return a * b\n",
    "\n",
    "def division(a, b):\n",
    "    if b == 0:\n",
    "        return \"Erreur : division par zéro\"\n",
    "    return a / b\n",
    "\n",
    "def calculatrice():\n",
    "    print(\"Opérations disponibles :\")\n",
    "    print(\"1. Addition\")\n",
    "    print(\"2. Soustraction\")\n",
    "    print(\"3. Multiplication\")\n",
    "    print(\"4. Division\")\n",
    "    choix = input(\"Choisissez une opération (1/2/3/4) : \")\n",
    "    a = float(input(\"Entrez le premier nombre : \"))\n",
    "    b = float(input(\"Entrez le deuxième nombre : \"))\n",
    "\n",
    "    if choix == '1':\n",
    "        print(\"Résultat :\", addition(a, b))\n",
    "    elif choix == '2':\n",
    "        print(\"Résultat :\", soustraction(a, b))\n",
    "    elif choix == '3':\n",
    "        print(\"Résultat :\", multiplication(a, b))\n",
    "    elif choix == '4':\n",
    "        print(\"Résultat :\", division(a, b))\n",
    "    else:\n",
    "        print(\"Choix invalide.\")\n",
    "\n",
    "# Pour utiliser la calculatrice, exécutez : calculatrice()"
   ]
  }
 ],
 "metadata": {
  "language_info": {
   "name": "python"
  }
 },
 "nbformat": 4,
 "nbformat_minor": 5
}
