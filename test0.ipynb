{
 "cells": [
  {
   "cell_type": "code",
   "execution_count": 11,
   "id": "e6ee3102",
   "metadata": {},
   "outputs": [],
   "source": [
    "def addition(a, b):\n",
    "    return a + b\n",
    "\n",
    "def soustraction(a, b):\n",
    "    return a - b\n",
    "\n",
    "def multiplication(a, b):\n",
    "    return a * b\n",
    "\n",
    "def division(a, b):\n",
    "    if b == 0:\n",
    "        return \"Erreur : division par zéro\"\n",
    "    return a / b\n",
    "\n",
    "def calculatrice():\n",
    "    print(\"Opérations disponibles :\")\n",
    "    print(\"1. Addition\")\n",
    "    print(\"2. Soustraction\")\n",
    "    print(\"3. Multiplication\")\n",
    "    print(\"4. Division\")\n",
    "    choix = input(\"Choisissez une opération (1/2/3/4) : \")\n",
    "    a = float(input(\"Entrez le premier nombre : \"))\n",
    "    b = float(input(\"Entrez le deuxième nombre : \"))\n",
    "\n",
    "    if choix == '1':\n",
    "        print(\"Résultat :\", addition(a, b))\n",
    "    elif choix == '2':\n",
    "        print(\"Résultat :\", soustraction(a, b))\n",
    "    elif choix == '3':\n",
    "        print(\"Résultat :\", multiplication(a, b))\n",
    "    elif choix == '4':\n",
    "        print(\"Résultat :\", division(a, b))\n",
    "    else:\n",
    "        print(\"Choix invalide.\")\n",
    "\n",
    "# Pour utiliser la calculatrice, exécutez : calculatrice()"
   ]
  },
  {
   "cell_type": "code",
   "execution_count": 12,
   "id": "6e0c36f5",
   "metadata": {},
   "outputs": [
    {
     "name": "stdout",
     "output_type": "stream",
     "text": [
      "first in list : pomme\n",
      "last in list : mangue\n",
      "7 odd\n",
      "even - 2\n",
      "even - 4\n",
      "even - 6\n",
      "even - 8\n",
      "even - 10\n",
      "even - 12\n",
      "even - 14\n",
      "even - 16\n",
      "even - 18\n",
      "even - 20\n",
      "pomme\n",
      "banane\n",
      "fraise\n",
      "kiwi\n",
      "mangue\n",
      "1\n",
      "2\n",
      "3\n",
      "4\n",
      "5\n",
      "6\n",
      "7\n",
      "8\n",
      "9\n",
      "10\n",
      "Bonjour Alice\n"
     ]
    }
   ],
   "source": [
    "fruits = [\"pomme\", \"banane\", \"fraise\", \"kiwi\", \"mangue\"]\n",
    "\n",
    "print(\"first in list :\", fruits[0])\n",
    "print(\"last in list :\", fruits[-1])\n",
    "\n",
    "n = 7\n",
    "if n % 2 == 0:\n",
    "    print(n +\"even\")\n",
    "else:\n",
    "    print(f\"{n} odd\")\n",
    "\n",
    "for n in range(1, 21):\n",
    "    if n % 2 == 0:\n",
    "        print(\"even - \" + str(n))\n",
    "\n",
    "for fruit in fruits:\n",
    "    print(fruit)\n",
    "\n",
    "i = 1\n",
    "while i <= 10:\n",
    "    print(i)\n",
    "    i += 1\n",
    "\n",
    "def dire_bonjour(nom):\n",
    "    print(f\"Bonjour {nom}\")\n",
    "\n",
    "# Exemple d'utilisation\n",
    "dire_bonjour(\"Alice\")"
   ]
  },
  {
   "cell_type": "code",
   "execution_count": 13,
   "id": "46891a82",
   "metadata": {},
   "outputs": [],
   "source": [
    "import numpy as np"
   ]
  },
  {
   "cell_type": "code",
   "execution_count": 14,
   "id": "3cd0178a",
   "metadata": {},
   "outputs": [
    {
     "name": "stdout",
     "output_type": "stream",
     "text": [
      "Vecteur : [1 2 3]\n",
      "Vecteur 2 : [4 5 6]\n",
      "vecteur3 = vecteur2 + 1 : [5 6 7]\n",
      "vecteur4 = vecteur + vecteur2 : [5 7 9]\n"
     ]
    }
   ],
   "source": [
    "vecteur = np.array([1, 2, 3])\n",
    "vecteur2 = np.array([4, 5, 6])\n",
    "vecteur3 = vecteur2 + 1\n",
    "vecteur4 = vecteur + vecteur2\n",
    "print(\"Vecteur :\", vecteur)\n",
    "print(\"Vecteur 2 :\", vecteur2)\n",
    "print(\"vecteur3 = vecteur2 + 1 :\", vecteur3)\n",
    "print(\"vecteur4 = vecteur + vecteur2 :\", vecteur4)\n"
   ]
  },
  {
   "cell_type": "markdown",
   "id": "28fd511c",
   "metadata": {},
   "source": [
    "#### Matrice"
   ]
  },
  {
   "cell_type": "code",
   "execution_count": 18,
   "id": "2e173631",
   "metadata": {},
   "outputs": [
    {
     "name": "stdout",
     "output_type": "stream",
     "text": [
      "Matrice :\n",
      "[[1 2 3]\n",
      " [4 5 6]]\n"
     ]
    }
   ],
   "source": [
    "matrice = np.array([[1, 2, 3], [4, 5, 6]])\n",
    "print(\"Matrice :\")\n",
    "print(matrice)"
   ]
  },
  {
   "cell_type": "code",
   "execution_count": null,
   "id": "e886d8b1",
   "metadata": {},
   "outputs": [],
   "source": []
  }
 ],
 "metadata": {
  "kernelspec": {
   "display_name": "aiPlayground",
   "language": "python",
   "name": "python3"
  },
  "language_info": {
   "codemirror_mode": {
    "name": "ipython",
    "version": 3
   },
   "file_extension": ".py",
   "mimetype": "text/x-python",
   "name": "python",
   "nbconvert_exporter": "python",
   "pygments_lexer": "ipython3",
   "version": "3.13.5"
  }
 },
 "nbformat": 4,
 "nbformat_minor": 5
}
